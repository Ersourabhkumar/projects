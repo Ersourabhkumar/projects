{
 "cells": [
  {
   "cell_type": "markdown",
   "id": "5bd852a2-3e04-40db-bee5-cf331dbed00a",
   "metadata": {},
   "source": [
    "App Review Sentiment Analysis"
   ]
  },
  {
   "cell_type": "code",
   "execution_count": 10,
   "id": "a98090f5-c8c7-4c3e-9f4d-36f92e496352",
   "metadata": {},
   "outputs": [],
   "source": [
    "import numpy as np\n",
    "import pandas as pd"
   ]
  },
  {
   "cell_type": "code",
   "execution_count": 11,
   "id": "059af2bc-e32e-4fcf-a739-a88f7086aa84",
   "metadata": {},
   "outputs": [],
   "source": [
    "df=pd.read_csv(\"linkedin-reviews - linkedin-reviews.csv\")"
   ]
  },
  {
   "cell_type": "code",
   "execution_count": 12,
   "id": "9913c1f1-0240-4ab7-bf83-13c457a80d05",
   "metadata": {},
   "outputs": [
    {
     "data": {
      "text/html": [
       "<div>\n",
       "<style scoped>\n",
       "    .dataframe tbody tr th:only-of-type {\n",
       "        vertical-align: middle;\n",
       "    }\n",
       "\n",
       "    .dataframe tbody tr th {\n",
       "        vertical-align: top;\n",
       "    }\n",
       "\n",
       "    .dataframe thead th {\n",
       "        text-align: right;\n",
       "    }\n",
       "</style>\n",
       "<table border=\"1\" class=\"dataframe\">\n",
       "  <thead>\n",
       "    <tr style=\"text-align: right;\">\n",
       "      <th></th>\n",
       "      <th>Review</th>\n",
       "      <th>Rating</th>\n",
       "    </tr>\n",
       "  </thead>\n",
       "  <tbody>\n",
       "    <tr>\n",
       "      <th>0</th>\n",
       "      <td>Does absolutely nothing for a LinkedIn beginne...</td>\n",
       "      <td>1</td>\n",
       "    </tr>\n",
       "    <tr>\n",
       "      <th>1</th>\n",
       "      <td>Force close(galaxy tab)</td>\n",
       "      <td>1</td>\n",
       "    </tr>\n",
       "    <tr>\n",
       "      <th>2</th>\n",
       "      <td>Slow and it tries to upload your contacts with...</td>\n",
       "      <td>1</td>\n",
       "    </tr>\n",
       "    <tr>\n",
       "      <th>3</th>\n",
       "      <td>Add ability to customize the profile and move ...</td>\n",
       "      <td>4</td>\n",
       "    </tr>\n",
       "    <tr>\n",
       "      <th>4</th>\n",
       "      <td>Good app, but it's a pain that it's not possib...</td>\n",
       "      <td>4</td>\n",
       "    </tr>\n",
       "  </tbody>\n",
       "</table>\n",
       "</div>"
      ],
      "text/plain": [
       "                                              Review  Rating\n",
       "0  Does absolutely nothing for a LinkedIn beginne...       1\n",
       "1                            Force close(galaxy tab)       1\n",
       "2  Slow and it tries to upload your contacts with...       1\n",
       "3  Add ability to customize the profile and move ...       4\n",
       "4  Good app, but it's a pain that it's not possib...       4"
      ]
     },
     "execution_count": 12,
     "metadata": {},
     "output_type": "execute_result"
    }
   ],
   "source": [
    "df.head()"
   ]
  },
  {
   "cell_type": "code",
   "execution_count": 13,
   "id": "2e66d852-cf92-41ff-ab2f-af4342f6be75",
   "metadata": {},
   "outputs": [],
   "source": [
    "import matplotlib.pyplot as plt"
   ]
  },
  {
   "cell_type": "code",
   "execution_count": 14,
   "id": "15277180-1a01-44d8-8699-d65704c01ee7",
   "metadata": {},
   "outputs": [],
   "source": [
    "import seaborn as sns"
   ]
  },
  {
   "cell_type": "code",
   "execution_count": 15,
   "id": "a9aeecf7-dbfe-447c-918b-743da765e4f6",
   "metadata": {},
   "outputs": [
    {
     "name": "stdout",
     "output_type": "stream",
     "text": [
      "<class 'pandas.core.frame.DataFrame'>\n",
      "RangeIndex: 702 entries, 0 to 701\n",
      "Data columns (total 2 columns):\n",
      " #   Column  Non-Null Count  Dtype \n",
      "---  ------  --------------  ----- \n",
      " 0   Review  702 non-null    object\n",
      " 1   Rating  702 non-null    int64 \n",
      "dtypes: int64(1), object(1)\n",
      "memory usage: 11.1+ KB\n"
     ]
    }
   ],
   "source": [
    "df.info()"
   ]
  },
  {
   "cell_type": "code",
   "execution_count": 16,
   "id": "37e1fe20-f293-4f48-99a5-fd67b71f97e8",
   "metadata": {},
   "outputs": [],
   "source": [
    "# Plotting the distribution of ratings"
   ]
  },
  {
   "cell_type": "code",
   "execution_count": 18,
   "id": "dbdaceb2-1893-4145-b0cb-b07120553de6",
   "metadata": {},
   "outputs": [
    {
     "data": {
      "image/png": "[encoded data removed]",
      "text/plain": [
       "<Figure size 900x500 with 1 Axes>"
      ]
     },
     "metadata": {},
     "output_type": "display_data"
    }
   ],
   "source": [
    "sns.set(style=\"whitegrid\")\n",
    "plt.figure(figsize=(9,5))\n",
    "sns.countplot(data=df , x=\"Rating\")\n",
    "plt.title(\"Distribution of Ratings\")\n",
    "plt.xlabel(\"Rating\")\n",
    "plt.ylabel(\"Count\")\n",
    "plt.show()"
   ]
  },
  {
   "cell_type": "code",
   "execution_count": 19,
   "id": "3a60a7b0-42a2-4ea0-bb16-37ff632b5bdb",
   "metadata": {},
   "outputs": [
    {
     "name": "stdout",
     "output_type": "stream",
     "text": [
      "Collecting textblob\n",
      "  Downloading textblob-0.19.0-py3-none-any.whl.metadata (4.4 kB)\n",
      "Collecting nltk>=3.9 (from textblob)\n",
      "  Downloading nltk-3.9.1-py3-none-any.whl.metadata (2.9 kB)\n",
      "Collecting click (from nltk>=3.9->textblob)\n",
      "  Downloading click-8.2.1-py3-none-any.whl.metadata (2.5 kB)\n",
      "Collecting joblib (from nltk>=3.9->textblob)\n",
      "  Downloading joblib-1.5.2-py3-none-any.whl.metadata (5.6 kB)\n",
      "Collecting regex>=2021.8.3 (from nltk>=3.9->textblob)\n",
      "  Downloading regex-2025.7.34-cp313-cp313-win_amd64.whl.metadata (41 kB)\n",
      "Collecting tqdm (from nltk>=3.9->textblob)\n",
      "  Downloading tqdm-4.67.1-py3-none-any.whl.metadata (57 kB)\n",
      "Requirement already satisfied: colorama in c:\\users\\shain\\appdata\\local\\programs\\python\\python313\\lib\\site-packages (from click->nltk>=3.9->textblob) (0.4.6)\n",
      "Downloading textblob-0.19.0-py3-none-any.whl (624 kB)\n",
      "   ---------------------------------------- 0.0/624.3 kB ? eta -:--:--\n",
      "   ---------------- ----------------------- 262.1/624.3 kB ? eta -:--:--\n",
      "   ---------------------------------------- 624.3/624.3 kB 2.1 MB/s eta 0:00:00\n",
      "Downloading nltk-3.9.1-py3-none-any.whl (1.5 MB)\n",
      "   ---------------------------------------- 0.0/1.5 MB ? eta -:--:--\n",
      "   ------ --------------------------------- 0.3/1.5 MB ? eta -:--:--\n",
      "   ------------- -------------------------- 0.5/1.5 MB 1.7 MB/s eta 0:00:01\n",
      "   ------------- -------------------------- 0.5/1.5 MB 1.7 MB/s eta 0:00:01\n",
      "   ------------- -------------------------- 0.5/1.5 MB 1.7 MB/s eta 0:00:01\n",
      "   -------------------- ------------------- 0.8/1.5 MB 647.0 kB/s eta 0:00:02\n",
      "   -------------------- ------------------- 0.8/1.5 MB 647.0 kB/s eta 0:00:02\n",
      "   -------------------- ------------------- 0.8/1.5 MB 647.0 kB/s eta 0:00:02\n",
      "   -------------------- ------------------- 0.8/1.5 MB 647.0 kB/s eta 0:00:02\n",
      "   -------------------- ------------------- 0.8/1.5 MB 647.0 kB/s eta 0:00:02\n",
      "   -------------------- ------------------- 0.8/1.5 MB 647.0 kB/s eta 0:00:02\n",
      "   -------------------- ------------------- 0.8/1.5 MB 647.0 kB/s eta 0:00:02\n",
      "   --------------------------- ------------ 1.0/1.5 MB 346.5 kB/s eta 0:00:02\n",
      "   --------------------------- ------------ 1.0/1.5 MB 346.5 kB/s eta 0:00:02\n",
      "   --------------------------- ------------ 1.0/1.5 MB 346.5 kB/s eta 0:00:02\n",
      "   --------------------------- ------------ 1.0/1.5 MB 346.5 kB/s eta 0:00:02\n",
      "   --------------------------- ------------ 1.0/1.5 MB 346.5 kB/s eta 0:00:02\n",
      "   --------------------------- ------------ 1.0/1.5 MB 346.5 kB/s eta 0:00:02\n",
      "   --------------------------- ------------ 1.0/1.5 MB 346.5 kB/s eta 0:00:02\n",
      "   --------------------------- ------------ 1.0/1.5 MB 346.5 kB/s eta 0:00:02\n",
      "   --------------------------- ------------ 1.0/1.5 MB 346.5 kB/s eta 0:00:02\n",
      "   --------------------------- ------------ 1.0/1.5 MB 346.5 kB/s eta 0:00:02\n",
      "   --------------------------- ------------ 1.0/1.5 MB 346.5 kB/s eta 0:00:02\n",
      "   --------------------------- ------------ 1.0/1.5 MB 346.5 kB/s eta 0:00:02\n",
      "   --------------------------- ------------ 1.0/1.5 MB 346.5 kB/s eta 0:00:02\n",
      "   ---------------------------------- ----- 1.3/1.5 MB 206.8 kB/s eta 0:00:01\n",
      "   ---------------------------------- ----- 1.3/1.5 MB 206.8 kB/s eta 0:00:01\n",
      "   ---------------------------------------- 1.5/1.5 MB 227.1 kB/s eta 0:00:00\n",
      "Downloading regex-2025.7.34-cp313-cp313-win_amd64.whl (275 kB)\n",
      "Downloading click-8.2.1-py3-none-any.whl (102 kB)\n",
      "Downloading joblib-1.5.2-py3-none-any.whl (308 kB)\n",
      "Downloading tqdm-4.67.1-py3-none-any.whl (78 kB)\n",
      "Installing collected packages: tqdm, regex, joblib, click, nltk, textblob\n",
      "\n",
      "   ---------------------------------------- 0/6 [tqdm]\n",
      "   ---------------------------------------- 0/6 [tqdm]\n",
      "   ---------------------------------------- 0/6 [tqdm]\n",
      "   ---------------------------------------- 0/6 [tqdm]\n",
      "   ---------------------------------------- 0/6 [tqdm]\n",
      "   ---------------------------------------- 0/6 [tqdm]\n",
      "   ---------------------------------------- 0/6 [tqdm]\n",
      "   ------ --------------------------------- 1/6 [regex]\n",
      "   ------ --------------------------------- 1/6 [regex]\n",
      "   ------ --------------------------------- 1/6 [regex]\n",
      "   ------------- -------------------------- 2/6 [joblib]\n",
      "   ------------- -------------------------- 2/6 [joblib]\n",
      "   ------------- -------------------------- 2/6 [joblib]\n",
      "   ------------- -------------------------- 2/6 [joblib]\n",
      "   ------------- -------------------------- 2/6 [joblib]\n",
      "   ------------- -------------------------- 2/6 [joblib]\n",
      "   ------------- -------------------------- 2/6 [joblib]\n",
      "   ------------- -------------------------- 2/6 [joblib]\n",
      "   ------------- -------------------------- 2/6 [joblib]\n",
      "   ------------- -------------------------- 2/6 [joblib]\n",
      "   ------------- -------------------------- 2/6 [joblib]\n",
      "   ------------- -------------------------- 2/6 [joblib]\n",
      "   ------------- -------------------------- 2/6 [joblib]\n",
      "   ------------- -------------------------- 2/6 [joblib]\n",
      "   -------------------- ------------------- 3/6 [click]\n",
      "   -------------------- ------------------- 3/6 [click]\n",
      "   -------------------- ------------------- 3/6 [click]\n",
      "   -------------------------- ------------- 4/6 [nltk]\n",
      "   -------------------------- ------------- 4/6 [nltk]\n",
      "   -------------------------- ------------- 4/6 [nltk]\n",
      "   -------------------------- ------------- 4/6 [nltk]\n",
      "   -------------------------- ------------- 4/6 [nltk]\n",
      "   -------------------------- ------------- 4/6 [nltk]\n",
      "   -------------------------- ------------- 4/6 [nltk]\n",
      "   -------------------------- ------------- 4/6 [nltk]\n",
      "   -------------------------- ------------- 4/6 [nltk]\n",
      "   -------------------------- ------------- 4/6 [nltk]\n",
      "   -------------------------- ------------- 4/6 [nltk]\n",
      "   -------------------------- ------------- 4/6 [nltk]\n",
      "   -------------------------- ------------- 4/6 [nltk]\n",
      "   -------------------------- ------------- 4/6 [nltk]\n",
      "   -------------------------- ------------- 4/6 [nltk]\n",
      "   -------------------------- ------------- 4/6 [nltk]\n",
      "   -------------------------- ------------- 4/6 [nltk]\n",
      "   -------------------------- ------------- 4/6 [nltk]\n",
      "   -------------------------- ------------- 4/6 [nltk]\n",
      "   -------------------------- ------------- 4/6 [nltk]\n",
      "   -------------------------- ------------- 4/6 [nltk]\n",
      "   -------------------------- ------------- 4/6 [nltk]\n",
      "   -------------------------- ------------- 4/6 [nltk]\n",
      "   -------------------------- ------------- 4/6 [nltk]\n",
      "   -------------------------- ------------- 4/6 [nltk]\n",
      "   -------------------------- ------------- 4/6 [nltk]\n",
      "   -------------------------- ------------- 4/6 [nltk]\n",
      "   -------------------------- ------------- 4/6 [nltk]\n",
      "   -------------------------- ------------- 4/6 [nltk]\n",
      "   -------------------------- ------------- 4/6 [nltk]\n",
      "   -------------------------- ------------- 4/6 [nltk]\n",
      "   -------------------------- ------------- 4/6 [nltk]\n",
      "   -------------------------- ------------- 4/6 [nltk]\n",
      "   -------------------------- ------------- 4/6 [nltk]\n",
      "   -------------------------- ------------- 4/6 [nltk]\n",
      "   -------------------------- ------------- 4/6 [nltk]\n",
      "   -------------------------- ------------- 4/6 [nltk]\n",
      "   -------------------------- ------------- 4/6 [nltk]\n",
      "   -------------------------- ------------- 4/6 [nltk]\n",
      "   -------------------------- ------------- 4/6 [nltk]\n",
      "   -------------------------- ------------- 4/6 [nltk]\n",
      "   -------------------------- ------------- 4/6 [nltk]\n",
      "   -------------------------- ------------- 4/6 [nltk]\n",
      "   -------------------------- ------------- 4/6 [nltk]\n",
      "   -------------------------- ------------- 4/6 [nltk]\n",
      "   -------------------------- ------------- 4/6 [nltk]\n",
      "   -------------------------- ------------- 4/6 [nltk]\n",
      "   -------------------------- ------------- 4/6 [nltk]\n",
      "   -------------------------- ------------- 4/6 [nltk]\n",
      "   -------------------------- ------------- 4/6 [nltk]\n",
      "   -------------------------- ------------- 4/6 [nltk]\n",
      "   -------------------------- ------------- 4/6 [nltk]\n",
      "   -------------------------- ------------- 4/6 [nltk]\n",
      "   -------------------------- ------------- 4/6 [nltk]\n",
      "   -------------------------- ------------- 4/6 [nltk]\n",
      "   -------------------------- ------------- 4/6 [nltk]\n",
      "   -------------------------- ------------- 4/6 [nltk]\n",
      "   -------------------------- ------------- 4/6 [nltk]\n",
      "   -------------------------- ------------- 4/6 [nltk]\n",
      "   -------------------------- ------------- 4/6 [nltk]\n",
      "   -------------------------- ------------- 4/6 [nltk]\n",
      "   -------------------------- ------------- 4/6 [nltk]\n",
      "   -------------------------- ------------- 4/6 [nltk]\n",
      "   -------------------------- ------------- 4/6 [nltk]\n",
      "   -------------------------- ------------- 4/6 [nltk]\n",
      "   -------------------------- ------------- 4/6 [nltk]\n",
      "   -------------------------- ------------- 4/6 [nltk]\n",
      "   -------------------------- ------------- 4/6 [nltk]\n",
      "   -------------------------- ------------- 4/6 [nltk]\n",
      "   -------------------------- ------------- 4/6 [nltk]\n",
      "   -------------------------- ------------- 4/6 [nltk]\n",
      "   -------------------------- ------------- 4/6 [nltk]\n",
      "   -------------------------- ------------- 4/6 [nltk]\n",
      "   --------------------------------- ------ 5/6 [textblob]\n",
      "   --------------------------------- ------ 5/6 [textblob]\n",
      "   --------------------------------- ------ 5/6 [textblob]\n",
      "   --------------------------------- ------ 5/6 [textblob]\n",
      "   --------------------------------- ------ 5/6 [textblob]\n",
      "   ---------------------------------------- 6/6 [textblob]\n",
      "\n",
      "Successfully installed click-8.2.1 joblib-1.5.2 nltk-3.9.1 regex-2025.7.34 textblob-0.19.0 tqdm-4.67.1\n"
     ]
    },
    {
     "name": "stderr",
     "output_type": "stream",
     "text": [
      "\n",
      "[notice] A new release of pip is available: 25.1.1 -> 25.2\n",
      "[notice] To update, run: python.exe -m pip install --upgrade pip\n"
     ]
    }
   ],
   "source": [
    "!pip install textblob"
   ]
  },
  {
   "cell_type": "code",
   "execution_count": 20,
   "id": "381c4bfd-a7a7-42c0-8276-a38906943cfe",
   "metadata": {},
   "outputs": [],
   "source": [
    "from textblob import TextBlob"
   ]
  },
  {
   "cell_type": "code",
   "execution_count": 21,
   "id": "a96554d0-e482-404c-9ab7-9bb03a574f22",
   "metadata": {},
   "outputs": [],
   "source": [
    "def textblob_sentiment_analysis(review):\n",
    "    sentiment=TextBlob(review).sentiment\n",
    "    if sentiment.polarity>0.1:\n",
    "        return \"Positive\"\n",
    "    elif sentiment.polarity<0.1:\n",
    "        return \"Negative\"\n",
    "    else:\n",
    "        return \"Neutral\""
   ]
  },
  {
   "cell_type": "code",
   "execution_count": 25,
   "id": "fdb453c7-2c73-4a8d-a87a-28dadce04aa9",
   "metadata": {},
   "outputs": [],
   "source": [
    "df[\"Sentiment\"]=df[\"Review\"].apply(textblob_sentiment_analysis)"
   ]
  },
  {
   "cell_type": "code",
   "execution_count": 32,
   "id": "a25b187c-3b41-45bc-b893-6f43dc52de99",
   "metadata": {},
   "outputs": [
    {
     "data": {
      "text/html": [
       "<div>\n",
       "<style scoped>\n",
       "    .dataframe tbody tr th:only-of-type {\n",
       "        vertical-align: middle;\n",
       "    }\n",
       "\n",
       "    .dataframe tbody tr th {\n",
       "        vertical-align: top;\n",
       "    }\n",
       "\n",
       "    .dataframe thead th {\n",
       "        text-align: right;\n",
       "    }\n",
       "</style>\n",
       "<table border=\"1\" class=\"dataframe\">\n",
       "  <thead>\n",
       "    <tr style=\"text-align: right;\">\n",
       "      <th></th>\n",
       "      <th>Review</th>\n",
       "      <th>Rating</th>\n",
       "      <th>sentiment</th>\n",
       "      <th>Sentiment</th>\n",
       "    </tr>\n",
       "  </thead>\n",
       "  <tbody>\n",
       "    <tr>\n",
       "      <th>364</th>\n",
       "      <td>Latest update is completely broken.</td>\n",
       "      <td>1</td>\n",
       "      <td>Negative</td>\n",
       "      <td>Negative</td>\n",
       "    </tr>\n",
       "    <tr>\n",
       "      <th>612</th>\n",
       "      <td>The app may be nice but I don't like the fact ...</td>\n",
       "      <td>2</td>\n",
       "      <td>Positive</td>\n",
       "      <td>Positive</td>\n",
       "    </tr>\n",
       "    <tr>\n",
       "      <th>669</th>\n",
       "      <td>The old interface was just fine, this is confu...</td>\n",
       "      <td>1</td>\n",
       "      <td>Negative</td>\n",
       "      <td>Negative</td>\n",
       "    </tr>\n",
       "    <tr>\n",
       "      <th>685</th>\n",
       "      <td>it's worse than the old one....</td>\n",
       "      <td>1</td>\n",
       "      <td>Negative</td>\n",
       "      <td>Negative</td>\n",
       "    </tr>\n",
       "    <tr>\n",
       "      <th>16</th>\n",
       "      <td>This is a very good start toward emulating the...</td>\n",
       "      <td>5</td>\n",
       "      <td>Positive</td>\n",
       "      <td>Positive</td>\n",
       "    </tr>\n",
       "  </tbody>\n",
       "</table>\n",
       "</div>"
      ],
      "text/plain": [
       "                                                Review  Rating sentiment  \\\n",
       "364                Latest update is completely broken.       1  Negative   \n",
       "612  The app may be nice but I don't like the fact ...       2  Positive   \n",
       "669  The old interface was just fine, this is confu...       1  Negative   \n",
       "685                    it's worse than the old one....       1  Negative   \n",
       "16   This is a very good start toward emulating the...       5  Positive   \n",
       "\n",
       "    Sentiment  \n",
       "364  Negative  \n",
       "612  Positive  \n",
       "669  Negative  \n",
       "685  Negative  \n",
       "16   Positive  "
      ]
     },
     "execution_count": 32,
     "metadata": {},
     "output_type": "execute_result"
    }
   ],
   "source": [
    "df.sample(5)"
   ]
  },
  {
   "cell_type": "code",
   "execution_count": 33,
   "id": "3965f3f7-04c3-4f7a-9248-fcc5df4b326d",
   "metadata": {},
   "outputs": [],
   "source": [
    "# analyzing App Review Sentiments"
   ]
  },
  {
   "cell_type": "code",
   "execution_count": 34,
   "id": "5aec1711-ac99-41b7-8ef1-279f48207bd2",
   "metadata": {},
   "outputs": [
    {
     "data": {
      "text/plain": [
       "Sentiment\n",
       "Negative    396\n",
       "Positive    295\n",
       "Neutral      11\n",
       "Name: count, dtype: int64"
      ]
     },
     "execution_count": 34,
     "metadata": {},
     "output_type": "execute_result"
    }
   ],
   "source": [
    "sentiment_distribution= df['Sentiment'].value_counts()\n",
    "sentiment_distribution"
   ]
  },
  {
   "cell_type": "code",
   "execution_count": 35,
   "id": "86dad1a8-f83d-434d-98c9-fed4fe573461",
   "metadata": {},
   "outputs": [
    {
     "data": {
      "image/png": "[encoded data removed]",
      "text/plain": [
       "<Figure size 900x500 with 1 Axes>"
      ]
     },
     "metadata": {},
     "output_type": "display_data"
    }
   ],
   "source": [
    "plt.figure(figsize=(9,5))\n",
    "sns.barplot(x=sentiment_distribution.index,\n",
    "           y=sentiment_distribution.values)\n",
    "plt.title(\"Distribution of Sentiments\")\n",
    "plt.xlabel(\"Sentiment\")\n",
    "plt.ylabel(\"Count\")\n",
    "plt.show()"
   ]
  },
  {
   "cell_type": "code",
   "execution_count": 36,
   "id": "784bffeb-4d60-4cf0-aafb-781545828ae1",
   "metadata": {},
   "outputs": [
    {
     "data": {
      "image/png": "[encoded data removed]",
      "text/plain": [
       "<Figure size 1000x500 with 1 Axes>"
      ]
     },
     "metadata": {},
     "output_type": "display_data"
    }
   ],
   "source": [
    "plt.figure(figsize=(10,5))\n",
    "sns.countplot(data=df,\n",
    "             x=\"Rating\",\n",
    "             hue=\"Sentiment\")\n",
    "plt.xlabel(\"Rating\")\n",
    "plt.ylabel(\"Count\")\n",
    "plt.legend(title=\"Sentiment\")\n",
    "plt.show()"
   ]
  },
  {
   "cell_type": "code",
   "execution_count": null,
   "id": "c8d2df00-5418-42d0-981d-f66838d4d2ed",
   "metadata": {},
   "outputs": [],
   "source": []
  }
 ],
 "metadata": {
  "kernelspec": {
   "display_name": "Python 3 (ipykernel)",
   "language": "python",
   "name": "python3"
  },
  "language_info": {
   "codemirror_mode": {
    "name": "ipython",
    "version": 3
   },
   "file_extension": ".py",
   "mimetype": "text/x-python",
   "name": "python",
   "nbconvert_exporter": "python",
   "pygments_lexer": "ipython3",
   "version": "3.13.5"
  }
 },
 "nbformat": 4,
 "nbformat_minor": 5
}
